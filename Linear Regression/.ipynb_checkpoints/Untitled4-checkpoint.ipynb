{
 "cells": [
  {
   "cell_type": "code",
   "execution_count": 44,
   "metadata": {},
   "outputs": [],
   "source": [
    "#pip install pyramid-arima"
   ]
  },
  {
   "cell_type": "code",
   "execution_count": 45,
   "metadata": {},
   "outputs": [],
   "source": [
    "#pip freeze\n",
    "import numpy as np\n",
    "import pandas as pd\n",
    "from pandas import read_csv\n",
    "from pandas import datetime\n",
    "from matplotlib import pyplot as plt"
   ]
  },
  {
   "cell_type": "code",
   "execution_count": 46,
   "metadata": {},
   "outputs": [
    {
     "name": "stdout",
     "output_type": "stream",
     "text": [
      "length of data 33\n"
     ]
    }
   ],
   "source": [
    "dataset = pd.read_excel(\"Calls.xlsx\")\n",
    "dataset_for_prediction = dataset.copy()\n",
    "print(\"length of data\",len(dataset))"
   ]
  },
  {
   "cell_type": "code",
   "execution_count": 47,
   "metadata": {},
   "outputs": [
    {
     "name": "stdout",
     "output_type": "stream",
     "text": [
      "       Date  Calls\n",
      "0  2017-1-1  18600\n",
      "1  2017-2-1  21150\n",
      "2  2017-3-1  29675\n",
      "3  2017-4-1  22675\n",
      "4  2017-5-1  22900\n"
     ]
    }
   ],
   "source": [
    "print(dataset_for_prediction.head(5))"
   ]
  },
  {
   "cell_type": "code",
   "execution_count": 62,
   "metadata": {},
   "outputs": [],
   "source": [
    "steps=-1"
   ]
  },
  {
   "cell_type": "code",
   "execution_count": 49,
   "metadata": {},
   "outputs": [
    {
     "data": {
      "text/plain": [
       "<matplotlib.legend.Legend at 0x1fabb767b38>"
      ]
     },
     "execution_count": 49,
     "metadata": {},
     "output_type": "execute_result"
    },
    {
     "data": {
      "image/png": "[encoded data removed]",
      "text/plain": [
       "<Figure size 1080x144 with 1 Axes>"
      ]
     },
     "metadata": {
      "needs_background": "light"
     },
     "output_type": "display_data"
    }
   ],
   "source": [
    "dataset_for_prediction['Calls'].plot(color='green', figsize=(15,2))\n",
    "plt.legend(['Calls'])"
   ]
  },
  {
   "cell_type": "code",
   "execution_count": 50,
   "metadata": {},
   "outputs": [
    {
     "name": "stdout",
     "output_type": "stream",
     "text": [
      "Index(['Date', 'Calls'], dtype='object')\n"
     ]
    }
   ],
   "source": [
    "print(dataset_for_prediction.columns)"
   ]
  },
  {
   "cell_type": "code",
   "execution_count": 51,
   "metadata": {},
   "outputs": [],
   "source": [
    "dataset_for_prediction['Date'] =pd.to_datetime(dataset_for_prediction['Date'])\n",
    "dataset_for_prediction.index= dataset_for_prediction['Date']\n",
    "dataset_for_prediction = dataset_for_prediction.drop(['Date'], axis = 1)"
   ]
  },
  {
   "cell_type": "code",
   "execution_count": 52,
   "metadata": {},
   "outputs": [
    {
     "name": "stdout",
     "output_type": "stream",
     "text": [
      "            Calls\n",
      "Date             \n",
      "2017-01-01  18600\n",
      "2017-02-01  21150\n",
      "2017-03-01  29675\n",
      "2017-04-01  22675\n",
      "2017-05-01  22900\n"
     ]
    }
   ],
   "source": [
    "print(dataset_for_prediction.head(5))"
   ]
  },
  {
   "cell_type": "code",
   "execution_count": null,
   "metadata": {},
   "outputs": [],
   "source": []
  },
  {
   "cell_type": "code",
   "execution_count": 55,
   "metadata": {},
   "outputs": [
    {
     "name": "stdout",
     "output_type": "stream",
     "text": [
      "       Calls\n",
      "0   0.047227\n",
      "1   0.106494\n",
      "2   0.304630\n",
      "3   0.141937\n",
      "4   0.147167\n",
      "5   0.328848\n",
      "6   0.168084\n",
      "7   0.000000\n",
      "8   0.400130\n",
      "9   0.325083\n",
      "10  0.292219\n",
      "11  0.339237\n",
      "12  0.166109\n",
      "13  0.366918\n",
      "14  0.544671\n",
      "15  0.366592\n",
      "16  0.261493\n",
      "17  0.550388\n",
      "18  0.350184\n",
      "19  0.215172\n",
      "20  0.629945\n",
      "21  0.512365\n",
      "22  0.502719\n",
      "23  0.727118\n",
      "24  0.415005\n",
      "25  0.717543\n",
      "26  1.000000\n",
      "27  0.579905\n",
      "28  0.608795\n",
      "29  0.915284\n",
      "30  0.559104\n",
      "31  0.344025\n",
      "32  0.779598\n"
     ]
    }
   ],
   "source": [
    "from sklearn.preprocessing import MinMaxScaler\n",
    "\n",
    "sc_in = MinMaxScaler(feature_range=(0, 1))\n",
    "scaled_input = sc_in.fit_transform(dataset_for_prediction[['Calls']])\n",
    "scaled_input =pd.DataFrame(scaled_input)\n",
    "X= scaled_input\n",
    "X.rename(columns={0:'Calls'}, inplace= True)\n",
    "print(X)\n"
   ]
  },
  {
   "cell_type": "code",
   "execution_count": 54,
   "metadata": {},
   "outputs": [
    {
     "name": "stdout",
     "output_type": "stream",
     "text": [
      "            Calls\n",
      "Date             \n",
      "2017-01-01  18600\n",
      "2017-02-01  21150\n",
      "2017-03-01  29675\n",
      "2017-04-01  22675\n",
      "2017-05-01  22900\n",
      "            Calls\n",
      "Date             \n",
      "2018-12-01  47853\n",
      "2019-01-01  34424\n",
      "2019-02-01  47441\n",
      "2019-03-01  59594\n",
      "2019-04-01  41519\n"
     ]
    }
   ],
   "source": [
    "x = dataset_for_prediction[:23]\n",
    "y = dataset_for_prediction[23:]\n",
    "\n",
    "print(x.head(5))\n",
    "\n",
    "print(y.head(5))"
   ]
  },
  {
   "cell_type": "code",
   "execution_count": 90,
   "metadata": {},
   "outputs": [],
   "source": [
    "\n",
    "train_size=int(len(dataset_for_prediction) *0.7)\n",
    "test_size = int(len(dataset_for_prediction)) - train_size\n",
    "\n",
    "\n",
    "train = dataset_for_prediction[:train_size]\n",
    "test = dataset_for_prediction[train_size:]\n"
   ]
  },
  {
   "cell_type": "code",
   "execution_count": 104,
   "metadata": {},
   "outputs": [],
   "source": [
    "tr_start,tr_end = '2017-01-01','2018-11-01'\n",
    "te_start,te_end = '2018-12-01','2019-09-01  '\n",
    "train = dataset_for_prediction['Calls'][tr_start:tr_end].dropna()\n",
    "test = dataset_for_prediction['Calls'][te_start:te_end].dropna()"
   ]
  },
  {
   "cell_type": "code",
   "execution_count": 105,
   "metadata": {},
   "outputs": [
    {
     "name": "stdout",
     "output_type": "stream",
     "text": [
      "Date\n",
      "2018-12-01    47853\n",
      "2019-01-01    34424\n",
      "2019-02-01    47441\n",
      "2019-03-01    59594\n",
      "2019-04-01    41519\n",
      "2019-05-01    42762\n",
      "2019-06-01    55949\n",
      "2019-07-01    40624\n",
      "2019-08-01    31370\n",
      "2019-09-01    50111\n",
      "Name: Calls, dtype: int64\n",
      "Date\n",
      "2017-01-01    18600\n",
      "2017-02-01    21150\n",
      "2017-03-01    29675\n",
      "2017-04-01    22675\n",
      "2017-05-01    22900\n",
      "2017-06-01    30717\n",
      "2017-07-01    23800\n",
      "2017-08-01    16568\n",
      "2017-09-01    33784\n",
      "2017-10-01    30555\n",
      "2017-11-01    29141\n",
      "2017-12-01    31164\n",
      "2018-01-01    23715\n",
      "2018-02-01    32355\n",
      "2018-03-01    40003\n",
      "2018-04-01    32341\n",
      "2018-05-01    27819\n",
      "2018-06-01    40249\n",
      "2018-07-01    31635\n",
      "2018-08-01    25826\n",
      "2018-09-01    43672\n",
      "2018-10-01    38613\n",
      "2018-11-01    38198\n",
      "Name: Calls, dtype: int64\n"
     ]
    }
   ],
   "source": [
    "print(test)\n",
    "print(train)"
   ]
  },
  {
   "cell_type": "code",
   "execution_count": 57,
   "metadata": {},
   "outputs": [
    {
     "data": {
      "image/png": "[encoded data removed]",
      "text/plain": [
       "<Figure size 432x288 with 4 Axes>"
      ]
     },
     "metadata": {
      "needs_background": "light"
     },
     "output_type": "display_data"
    }
   ],
   "source": [
    "import statsmodels.api as sm\n",
    "seas_d=sm.tsa.seasonal_decompose(dataset_for_prediction[\"Calls\"],model='add',freq=1);\n",
    "fig=seas_d.plot()\n",
    "fig.set_figheight(4)\n",
    "plt.show()"
   ]
  },
  {
   "cell_type": "raw",
   "metadata": {},
   "source": [
    "train_size=int(len(test) *0.7)\n",
    "test_size = int(len(test)) - train_size\n",
    "test=dataset_for_prediction[\"Calls\"][:train_size]\n",
    "#y_test=test[\"Calls\"][:train_size1].dropna()\n",
    "print(y_test)\n"
   ]
  },
  {
   "cell_type": "code",
   "execution_count": 58,
   "metadata": {},
   "outputs": [
    {
     "name": "stderr",
     "output_type": "stream",
     "text": [
      "C:\\ProgramData\\Anaconda3\\lib\\site-packages\\statsmodels\\regression\\linear_model.py:1358: RuntimeWarning: invalid value encountered in sqrt\n",
      "  return rho, np.sqrt(sigmasq)\n"
     ]
    },
    {
     "data": {
      "image/png": "[encoded data removed]",
      "text/plain": [
       "<Figure size 720x360 with 2 Axes>"
      ]
     },
     "metadata": {
      "needs_background": "light"
     },
     "output_type": "display_data"
    }
   ],
   "source": [
    "fig,ax= plt.subplots(2,1, figsize=(10,5))\n",
    "fig=sm.tsa.graphics.plot_acf(test, lags=5, ax=ax[0])\n",
    "fig=sm.tsa.graphics.plot_pacf(test, lags=5, ax=ax[1])\n",
    "plt.show()"
   ]
  },
  {
   "cell_type": "code",
   "execution_count": 36,
   "metadata": {},
   "outputs": [],
   "source": [
    "#pip install python3"
   ]
  },
  {
   "cell_type": "code",
   "execution_count": 16,
   "metadata": {},
   "outputs": [],
   "source": [
    "#pip install pmdarima"
   ]
  },
  {
   "cell_type": "code",
   "execution_count": 37,
   "metadata": {},
   "outputs": [
    {
     "ename": "ModuleNotFoundError",
     "evalue": "No module named 'pmdarima'",
     "output_type": "error",
     "traceback": [
      "\u001b[1;31m---------------------------------------------------------------------------\u001b[0m",
      "\u001b[1;31mModuleNotFoundError\u001b[0m                       Traceback (most recent call last)",
      "\u001b[1;32m<ipython-input-37-098451fbc4af>\u001b[0m in \u001b[0;36m<module>\u001b[1;34m\u001b[0m\n\u001b[1;32m----> 1\u001b[1;33m \u001b[1;32mfrom\u001b[0m \u001b[0mpmdarima\u001b[0m \u001b[1;32mimport\u001b[0m \u001b[0mauto_arima\u001b[0m\u001b[1;33m\u001b[0m\u001b[1;33m\u001b[0m\u001b[0m\n\u001b[0m\u001b[0;32m      2\u001b[0m step_wise=auto_arima(train, \n\u001b[0;32m      3\u001b[0m  \u001b[0mexogenous\u001b[0m\u001b[1;33m=\u001b[0m \u001b[0mtrain\u001b[0m\u001b[1;33m,\u001b[0m\u001b[1;33m\u001b[0m\u001b[1;33m\u001b[0m\u001b[0m\n\u001b[0;32m      4\u001b[0m  \u001b[0mstart_p\u001b[0m\u001b[1;33m=\u001b[0m\u001b[1;36m1\u001b[0m\u001b[1;33m,\u001b[0m \u001b[0mstart_q\u001b[0m\u001b[1;33m=\u001b[0m\u001b[1;36m1\u001b[0m\u001b[1;33m,\u001b[0m\u001b[1;33m\u001b[0m\u001b[1;33m\u001b[0m\u001b[0m\n\u001b[0;32m      5\u001b[0m  \u001b[0mmax_p\u001b[0m\u001b[1;33m=\u001b[0m\u001b[1;36m7\u001b[0m\u001b[1;33m,\u001b[0m \u001b[0mmax_q\u001b[0m\u001b[1;33m=\u001b[0m\u001b[1;36m7\u001b[0m\u001b[1;33m,\u001b[0m\u001b[1;33m\u001b[0m\u001b[1;33m\u001b[0m\u001b[0m\n",
      "\u001b[1;31mModuleNotFoundError\u001b[0m: No module named 'pmdarima'"
     ]
    }
   ],
   "source": [
    "from pmdarima import auto_arima\n",
    "step_wise=auto_arima(train, \n",
    " exogenous= train,\n",
    " start_p=1, start_q=1, \n",
    " max_p=7, max_q=7, \n",
    " d=1, max_d=7,\n",
    " trace=True, \n",
    " error_action='ignore', \n",
    " suppress_warnings=True, \n",
    " stepwise=True)"
   ]
  },
  {
   "cell_type": "code",
   "execution_count": null,
   "metadata": {},
   "outputs": [],
   "source": [
    "#pip install pmdarima"
   ]
  },
  {
   "cell_type": "code",
   "execution_count": 38,
   "metadata": {},
   "outputs": [
    {
     "ename": "NameError",
     "evalue": "name 'step_wise' is not defined",
     "output_type": "error",
     "traceback": [
      "\u001b[1;31m---------------------------------------------------------------------------\u001b[0m",
      "\u001b[1;31mNameError\u001b[0m                                 Traceback (most recent call last)",
      "\u001b[1;32m<ipython-input-38-be1de1d42ed6>\u001b[0m in \u001b[0;36m<module>\u001b[1;34m\u001b[0m\n\u001b[1;32m----> 1\u001b[1;33m \u001b[0mstep_wise\u001b[0m\u001b[1;33m.\u001b[0m\u001b[0msummary\u001b[0m\u001b[1;33m(\u001b[0m\u001b[1;33m)\u001b[0m\u001b[1;33m\u001b[0m\u001b[1;33m\u001b[0m\u001b[0m\n\u001b[0m",
      "\u001b[1;31mNameError\u001b[0m: name 'step_wise' is not defined"
     ]
    }
   ],
   "source": [
    "step_wise.summary()"
   ]
  },
  {
   "cell_type": "code",
   "execution_count": 107,
   "metadata": {},
   "outputs": [
    {
     "name": "stderr",
     "output_type": "stream",
     "text": [
      "C:\\ProgramData\\Anaconda3\\lib\\site-packages\\statsmodels\\tsa\\base\\tsa_model.py:165: ValueWarning: No frequency information was provided, so inferred frequency MS will be used.\n",
      "  % freq, ValueWarning)\n"
     ]
    }
   ],
   "source": [
    "from statsmodels.tsa.statespace.sarimax import SARIMAX\n",
    "model= SARIMAX(train,order=(0,1,1),freq = 1\n",
    " enforce_invertibility=False, enforce_stationarity=False)"
   ]
  },
  {
   "cell_type": "code",
   "execution_count": 108,
   "metadata": {},
   "outputs": [],
   "source": [
    "results= model.fit()"
   ]
  },
  {
   "cell_type": "code",
   "execution_count": 85,
   "metadata": {},
   "outputs": [
    {
     "name": "stderr",
     "output_type": "stream",
     "text": [
      "C:\\ProgramData\\Anaconda3\\lib\\site-packages\\ipykernel_launcher.py:1: SettingWithCopyWarning: \n",
      "A value is trying to be set on a copy of a slice from a DataFrame.\n",
      "Try using .loc[row_indexer,col_indexer] = value instead\n",
      "\n",
      "See the caveats in the documentation: http://pandas.pydata.org/pandas-docs/stable/indexing.html#indexing-view-versus-copy\n",
      "  \"\"\"Entry point for launching an IPython kernel.\n"
     ]
    }
   ],
   "source": [
    "test['Date2'] = test.index.values\n"
   ]
  },
  {
   "cell_type": "code",
   "execution_count": 89,
   "metadata": {},
   "outputs": [
    {
     "name": "stdout",
     "output_type": "stream",
     "text": [
      "Date\n",
      "2018-12-01   2018-12-01\n",
      "2019-01-01   2019-01-01\n",
      "2019-02-01   2019-02-01\n",
      "2019-03-01   2019-03-01\n",
      "2019-04-01   2019-04-01\n",
      "2019-05-01   2019-05-01\n",
      "2019-06-01   2019-06-01\n",
      "2019-07-01   2019-07-01\n",
      "2019-08-01   2019-08-01\n",
      "2019-09-01   2019-09-01\n",
      "Name: Date, dtype: datetime64[ns]\n"
     ]
    }
   ],
   "source": [
    "print(test['Date'])\n"
   ]
  },
  {
   "cell_type": "code",
   "execution_count": 109,
   "metadata": {},
   "outputs": [],
   "source": [
    "predictions= results.predict('2018-11-01','2019-09-01')"
   ]
  },
  {
   "cell_type": "code",
   "execution_count": 110,
   "metadata": {},
   "outputs": [
    {
     "name": "stdout",
     "output_type": "stream",
     "text": [
      "2018-11-01    35981.237443\n",
      "2018-12-01    36662.706095\n",
      "2019-01-01    36662.706095\n",
      "2019-02-01    36662.706095\n",
      "2019-03-01    36662.706095\n",
      "2019-04-01    36662.706095\n",
      "2019-05-01    36662.706095\n",
      "2019-06-01    36662.706095\n",
      "2019-07-01    36662.706095\n",
      "2019-08-01    36662.706095\n",
      "2019-09-01    36662.706095\n",
      "Freq: MS, dtype: float64\n"
     ]
    }
   ],
   "source": [
    "print(predictions)"
   ]
  },
  {
   "cell_type": "code",
   "execution_count": 64,
   "metadata": {},
   "outputs": [],
   "source": [
    "forecast_1= results.forecast(steps=test_size, exog=test)"
   ]
  },
  {
   "cell_type": "code",
   "execution_count": 65,
   "metadata": {},
   "outputs": [],
   "source": [
    "sc_out = MinMaxScaler(feature_range=(0, 1))\n",
    "scaler_output = sc_out.fit_transform(dataset_for_prediction[['Calls']])\n",
    "scaler_output = dataset_for_prediction[\"Calls\"]\n",
    "act= pd.DataFrame(scaler_output.iloc[train_size:])"
   ]
  },
  {
   "cell_type": "code",
   "execution_count": null,
   "metadata": {},
   "outputs": [],
   "source": []
  },
  {
   "cell_type": "code",
   "execution_count": 66,
   "metadata": {},
   "outputs": [],
   "source": [
    "predictions=pd.DataFrame(predictions)\n",
    "predictions.reset_index(drop=True, inplace=True)\n",
    "predictions.index=test.index\n",
    "predictions['Calls'] = act['Calls']\n",
    "predictions.rename(columns={0:'Pred'}, inplace=True)"
   ]
  },
  {
   "cell_type": "code",
   "execution_count": 67,
   "metadata": {},
   "outputs": [
    {
     "data": {
      "text/plain": [
       "<matplotlib.axes._subplots.AxesSubplot at 0x1fabb3c5c50>"
      ]
     },
     "execution_count": 67,
     "metadata": {},
     "output_type": "execute_result"
    },
    {
     "data": {
      "image/png": "[encoded data removed]",
      "text/plain": [
       "<Figure size 1440x576 with 1 Axes>"
      ]
     },
     "metadata": {
      "needs_background": "light"
     },
     "output_type": "display_data"
    }
   ],
   "source": [
    "predictions['Calls'].plot(figsize=(20,8), legend=True, color='blue')\n",
    "predictions['Pred'].plot(legend=True, color='red', figsize=(20,8))"
   ]
  },
  {
   "cell_type": "code",
   "execution_count": 26,
   "metadata": {},
   "outputs": [
    {
     "ename": "NameError",
     "evalue": "name 'forecast_1' is not defined",
     "output_type": "error",
     "traceback": [
      "\u001b[1;31m---------------------------------------------------------------------------\u001b[0m",
      "\u001b[1;31mNameError\u001b[0m                                 Traceback (most recent call last)",
      "\u001b[1;32m<ipython-input-26-3a95f759db61>\u001b[0m in \u001b[0;36m<module>\u001b[1;34m\u001b[0m\n\u001b[1;32m----> 1\u001b[1;33m \u001b[0mforecast_apple\u001b[0m\u001b[1;33m=\u001b[0m \u001b[0mpd\u001b[0m\u001b[1;33m.\u001b[0m\u001b[0mDataFrame\u001b[0m\u001b[1;33m(\u001b[0m\u001b[0mforecast_1\u001b[0m\u001b[1;33m)\u001b[0m\u001b[1;33m\u001b[0m\u001b[1;33m\u001b[0m\u001b[0m\n\u001b[0m\u001b[0;32m      2\u001b[0m \u001b[0mforecast_apple\u001b[0m\u001b[1;33m.\u001b[0m\u001b[0mreset_index\u001b[0m\u001b[1;33m(\u001b[0m\u001b[0mdrop\u001b[0m\u001b[1;33m=\u001b[0m\u001b[1;32mTrue\u001b[0m\u001b[1;33m,\u001b[0m \u001b[0minplace\u001b[0m\u001b[1;33m=\u001b[0m\u001b[1;32mTrue\u001b[0m\u001b[1;33m)\u001b[0m\u001b[1;33m\u001b[0m\u001b[1;33m\u001b[0m\u001b[0m\n\u001b[0;32m      3\u001b[0m \u001b[0mforecast_apple\u001b[0m\u001b[1;33m.\u001b[0m\u001b[0mindex\u001b[0m\u001b[1;33m=\u001b[0m\u001b[0mtest\u001b[0m\u001b[1;33m.\u001b[0m\u001b[0mindex\u001b[0m\u001b[1;33m\u001b[0m\u001b[1;33m\u001b[0m\u001b[0m\n\u001b[0;32m      4\u001b[0m \u001b[0mforecast_apple\u001b[0m\u001b[1;33m[\u001b[0m\u001b[1;34m'Calls'\u001b[0m\u001b[1;33m]\u001b[0m \u001b[1;33m=\u001b[0m \u001b[0mscaler_output\u001b[0m\u001b[1;33m.\u001b[0m\u001b[0miloc\u001b[0m\u001b[1;33m[\u001b[0m\u001b[0mtrain_size\u001b[0m\u001b[1;33m:\u001b[0m\u001b[1;33m]\u001b[0m\u001b[1;33m\u001b[0m\u001b[1;33m\u001b[0m\u001b[0m\n\u001b[0;32m      5\u001b[0m \u001b[0mforecast_apple\u001b[0m\u001b[1;33m.\u001b[0m\u001b[0mrename\u001b[0m\u001b[1;33m(\u001b[0m\u001b[0mcolumns\u001b[0m\u001b[1;33m=\u001b[0m\u001b[1;33m{\u001b[0m\u001b[1;36m0\u001b[0m\u001b[1;33m:\u001b[0m\u001b[1;34m'Forecast'\u001b[0m\u001b[1;33m}\u001b[0m\u001b[1;33m,\u001b[0m \u001b[0minplace\u001b[0m\u001b[1;33m=\u001b[0m\u001b[1;32mTrue\u001b[0m\u001b[1;33m)\u001b[0m\u001b[1;33m\u001b[0m\u001b[1;33m\u001b[0m\u001b[0m\n",
      "\u001b[1;31mNameError\u001b[0m: name 'forecast_1' is not defined"
     ]
    }
   ],
   "source": [
    "forecast_apple= pd.DataFrame(forecast_1)\n",
    "forecast_apple.reset_index(drop=True, inplace=True)\n",
    "forecast_apple.index=test.index\n",
    "forecast_apple['Calls'] = scaler_output.iloc[train_size:]\n",
    "forecast_apple.rename(columns={0:'Forecast'}, inplace=True)"
   ]
  },
  {
   "cell_type": "code",
   "execution_count": 27,
   "metadata": {},
   "outputs": [
    {
     "ename": "NameError",
     "evalue": "name 'forecast_apple' is not defined",
     "output_type": "error",
     "traceback": [
      "\u001b[1;31m---------------------------------------------------------------------------\u001b[0m",
      "\u001b[1;31mNameError\u001b[0m                                 Traceback (most recent call last)",
      "\u001b[1;32m<ipython-input-27-ada1e6ef30a9>\u001b[0m in \u001b[0;36m<module>\u001b[1;34m\u001b[0m\n\u001b[1;32m----> 1\u001b[1;33m \u001b[0mforecast_apple\u001b[0m\u001b[1;33m[\u001b[0m\u001b[1;34m'Forecast'\u001b[0m\u001b[1;33m]\u001b[0m\u001b[1;33m.\u001b[0m\u001b[0mplot\u001b[0m\u001b[1;33m(\u001b[0m\u001b[0mlegend\u001b[0m\u001b[1;33m=\u001b[0m\u001b[1;32mTrue\u001b[0m\u001b[1;33m)\u001b[0m\u001b[1;33m\u001b[0m\u001b[1;33m\u001b[0m\u001b[0m\n\u001b[0m\u001b[0;32m      2\u001b[0m \u001b[0mforecast_apple\u001b[0m\u001b[1;33m[\u001b[0m\u001b[1;34m'Calls'\u001b[0m\u001b[1;33m]\u001b[0m\u001b[1;33m.\u001b[0m\u001b[0mplot\u001b[0m\u001b[1;33m(\u001b[0m\u001b[0mlegend\u001b[0m\u001b[1;33m=\u001b[0m\u001b[1;32mTrue\u001b[0m\u001b[1;33m)\u001b[0m\u001b[1;33m\u001b[0m\u001b[1;33m\u001b[0m\u001b[0m\n",
      "\u001b[1;31mNameError\u001b[0m: name 'forecast_apple' is not defined"
     ]
    }
   ],
   "source": [
    "forecast_apple['Forecast'].plot(legend=True)\n",
    "forecast_apple['Calls'].plot(legend=True)"
   ]
  },
  {
   "cell_type": "code",
   "execution_count": 68,
   "metadata": {},
   "outputs": [
    {
     "data": {
      "text/plain": [
       "0.0"
      ]
     },
     "execution_count": 68,
     "metadata": {},
     "output_type": "execute_result"
    }
   ],
   "source": [
    "from statsmodels.tools.eval_measures import rmse\n",
    "error=rmse(predictions['Pred'], predictions['Calls'])\n",
    "error"
   ]
  },
  {
   "cell_type": "code",
   "execution_count": 29,
   "metadata": {},
   "outputs": [
    {
     "ename": "NameError",
     "evalue": "name 'predictions' is not defined",
     "output_type": "error",
     "traceback": [
      "\u001b[1;31m---------------------------------------------------------------------------\u001b[0m",
      "\u001b[1;31mNameError\u001b[0m                                 Traceback (most recent call last)",
      "\u001b[1;32m<ipython-input-29-c4b8c44e7f12>\u001b[0m in \u001b[0;36m<module>\u001b[1;34m\u001b[0m\n\u001b[1;32m----> 1\u001b[1;33m \u001b[0mtrainPredict\u001b[0m \u001b[1;33m=\u001b[0m \u001b[0msc_out\u001b[0m\u001b[1;33m.\u001b[0m\u001b[0minverse_transform\u001b[0m\u001b[1;33m(\u001b[0m\u001b[0mpredictions\u001b[0m\u001b[1;33m[\u001b[0m\u001b[1;33m[\u001b[0m\u001b[1;34m'Pred'\u001b[0m\u001b[1;33m]\u001b[0m\u001b[1;33m]\u001b[0m\u001b[1;33m)\u001b[0m\u001b[1;33m\u001b[0m\u001b[1;33m\u001b[0m\u001b[0m\n\u001b[0m\u001b[0;32m      2\u001b[0m \u001b[0mtestPredict\u001b[0m \u001b[1;33m=\u001b[0m \u001b[0msc_out\u001b[0m\u001b[1;33m.\u001b[0m\u001b[0minverse_transform\u001b[0m\u001b[1;33m(\u001b[0m\u001b[0mpredictions\u001b[0m\u001b[1;33m[\u001b[0m\u001b[1;33m[\u001b[0m\u001b[1;34m'Calls'\u001b[0m\u001b[1;33m]\u001b[0m\u001b[1;33m]\u001b[0m\u001b[1;33m)\u001b[0m\u001b[1;33m\u001b[0m\u001b[1;33m\u001b[0m\u001b[0m\n\u001b[0;32m      3\u001b[0m \u001b[0mprint\u001b[0m\u001b[1;33m(\u001b[0m\u001b[0mtrainPredict\u001b[0m\u001b[1;33m)\u001b[0m\u001b[1;33m\u001b[0m\u001b[1;33m\u001b[0m\u001b[0m\n\u001b[0;32m      4\u001b[0m \u001b[0mprint\u001b[0m\u001b[1;33m(\u001b[0m\u001b[0mtestPredict\u001b[0m\u001b[1;33m)\u001b[0m\u001b[1;33m\u001b[0m\u001b[1;33m\u001b[0m\u001b[0m\n",
      "\u001b[1;31mNameError\u001b[0m: name 'predictions' is not defined"
     ]
    }
   ],
   "source": [
    "trainPredict = sc_out.inverse_transform(predictions[['Pred']])\n",
    "testPredict = sc_out.inverse_transform(predictions[['Calls']])\n",
    "print(trainPredict)\n",
    "print(testPredict)"
   ]
  },
  {
   "cell_type": "code",
   "execution_count": null,
   "metadata": {},
   "outputs": [],
   "source": []
  },
  {
   "cell_type": "code",
   "execution_count": null,
   "metadata": {},
   "outputs": [],
   "source": []
  },
  {
   "cell_type": "code",
   "execution_count": null,
   "metadata": {},
   "outputs": [],
   "source": []
  },
  {
   "cell_type": "code",
   "execution_count": null,
   "metadata": {},
   "outputs": [],
   "source": []
  },
  {
   "cell_type": "code",
   "execution_count": null,
   "metadata": {},
   "outputs": [],
   "source": [
    "import statsmodels.api as sm\n",
    "seas_d=sm.tsa.seasonal_decompose(X['Calls'],model='add',freq=120);\n",
    "fig=seas_d.plot()\n",
    "fig.set_figheight(4)\n",
    "plt.show()"
   ]
  },
  {
   "cell_type": "code",
   "execution_count": null,
   "metadata": {},
   "outputs": [],
   "source": [
    "from statsmodels.tsa.statespace.sarimax import SARIMAX\n",
    "model= SARIMAX(train_y, exog=train_X,order=(0,1,1),enforce_invertibility=False, enforce_stationarity=False)"
   ]
  },
  {
   "cell_type": "code",
   "execution_count": null,
   "metadata": {},
   "outputs": [],
   "source": [
    "from pmdarima.arima import auto_arima\n",
    "step_wise=auto_arima(train_y, \n",
    " exogenous= train_X,\n",
    " start_p=1, start_q=1, \n",
    " max_p=7, max_q=7, \n",
    " d=1, max_d=7,\n",
    " trace=True, \n",
    " error_action='ignore', \n",
    " suppress_warnings=True, \n",
    " stepwise=True)"
   ]
  },
  {
   "cell_type": "code",
   "execution_count": null,
   "metadata": {},
   "outputs": [],
   "source": [
    "#pip install pmdarima"
   ]
  },
  {
   "cell_type": "code",
   "execution_count": null,
   "metadata": {},
   "outputs": [],
   "source": [
    "# dataset_for_prediction.index= dataset_for_prediction['Date']\n",
    "#dataset_for_prediction.rename(columns={'Date':'Date2'}, inplace=True)\n",
    "#print(dataset_for_prediction)"
   ]
  }
 ],
 "metadata": {
  "kernelspec": {
   "display_name": "Python 3",
   "language": "python",
   "name": "python3"
  },
  "language_info": {
   "codemirror_mode": {
    "name": "ipython",
    "version": 3
   },
   "file_extension": ".py",
   "mimetype": "text/x-python",
   "name": "python",
   "nbconvert_exporter": "python",
   "pygments_lexer": "ipython3",
   "version": "3.7.3"
  }
 },
 "nbformat": 4,
 "nbformat_minor": 2
}
