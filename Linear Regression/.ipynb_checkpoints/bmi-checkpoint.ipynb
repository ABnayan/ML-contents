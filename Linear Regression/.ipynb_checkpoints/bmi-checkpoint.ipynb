{
 "cells": [
  {
   "cell_type": "code",
   "execution_count": 38,
   "metadata": {},
   "outputs": [
    {
     "name": "stdout",
     "output_type": "stream",
     "text": [
      "                   Country  Life expectancy       BMI\n",
      "0              Afghanistan             52.8  20.62058\n",
      "1                  Albania             76.8  26.44657\n",
      "2                  Algeria             75.5  24.59620\n",
      "3                  Andorra             84.6  27.63048\n",
      "4                   Angola             56.7  22.25083\n",
      "5                  Armenia             72.3  25.35542\n",
      "6                Australia             81.6  27.56373\n",
      "7                  Austria             80.4  26.46741\n",
      "8               Azerbaijan             69.2  25.65117\n",
      "9                  Bahamas             72.2  27.24594\n",
      "10              Bangladesh             68.3  20.39742\n",
      "11                Barbados             75.3  26.38439\n",
      "12                 Belarus             70.0  26.16443\n",
      "13                 Belgium             79.6  26.75915\n",
      "14                  Belize             70.7  27.02255\n",
      "15                   Benin             59.7  22.41835\n",
      "16                  Bhutan             70.7  22.82180\n",
      "17                 Bolivia             71.2  24.43335\n",
      "18  Bosnia and Herzegovina             77.5  26.61163\n",
      "19                Botswana             53.2  22.12984\n"
     ]
    }
   ],
   "source": [
    "from matplotlib import pyplot as plt\n",
    "import numpy as np\n",
    "%matplotlib inline\n",
    "import pandas as pd\n",
    "bmi = pd.read_csv(\"bmi_and_life_expectancy.csv\")\n",
    "print(bmi.head(20))"
   ]
  },
  {
   "cell_type": "code",
   "execution_count": 49,
   "metadata": {},
   "outputs": [
    {
     "name": "stdout",
     "output_type": "stream",
     "text": [
      "[[69.17286232]]\n"
     ]
    },
    {
     "data": {
      "image/png": "[encoded data removed]",
      "text/plain": [
       "<Figure size 432x288 with 1 Axes>"
      ]
     },
     "metadata": {
      "needs_background": "light"
     },
     "output_type": "display_data"
    }
   ],
   "source": [
    "\n",
    "from sklearn.linear_model import LinearRegression\n",
    "model = LinearRegression()\n",
    "\n",
    "model.fit(bmi[['BMI']],bmi[['Life expectancy']])\n",
    "\n",
    "print(model.predict([[24.59620]]))\n",
    "plt.scatter(bmi[['BMI']], bmi[['Life expectancy']], c='b')\n",
    "u = model.predict(bmi[['BMI']])\n",
    "plt.plot(bmi[['BMI']],u,c='r')\n",
    "plt.show()\n"
   ]
  },
  {
   "cell_type": "code",
   "execution_count": null,
   "metadata": {},
   "outputs": [],
   "source": []
  },
  {
   "cell_type": "code",
   "execution_count": null,
   "metadata": {},
   "outputs": [],
   "source": []
  }
 ],
 "metadata": {
  "kernelspec": {
   "display_name": "Python 3",
   "language": "python",
   "name": "python3"
  },
  "language_info": {
   "codemirror_mode": {
    "name": "ipython",
    "version": 3
   },
   "file_extension": ".py",
   "mimetype": "text/x-python",
   "name": "python",
   "nbconvert_exporter": "python",
   "pygments_lexer": "ipython3",
   "version": "3.7.3"
  }
 },
 "nbformat": 4,
 "nbformat_minor": 2
}
