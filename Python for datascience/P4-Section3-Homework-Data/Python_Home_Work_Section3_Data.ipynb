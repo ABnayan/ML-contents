{
 "cells": [
  {
   "cell_type": "code",
   "execution_count": 27,
   "metadata": {},
   "outputs": [],
   "source": [
    "import numpy as np\n",
    "from statistics import mean"
   ]
  },
  {
   "cell_type": "code",
   "execution_count": 1,
   "metadata": {},
   "outputs": [],
   "source": [
    "#Data \n",
    "revenue = [14574.49, 7606.46, 8611.41, 9175.41, 8058.65, 8105.44, 11496.28, 9766.09, 10305.32, 14379.96, 10713.97, 15433.50]\n",
    "expenses = [12051.82, 5695.07, 12319.20, 12089.72, 8658.57, 840.20, 3285.73, 5821.12, 6976.93, 16618.61, 10054.37, 3803.96]"
   ]
  },
  {
   "cell_type": "code",
   "execution_count": 23,
   "metadata": {},
   "outputs": [
    {
     "name": "stdout",
     "output_type": "stream",
     "text": [
      "[2522.67, 1911.3900000000003, -3707.790000000001, -2914.3099999999995, -599.9200000000001, 7265.24, 8210.550000000001, 3944.9700000000003, 3328.3899999999994, -2238.6500000000015, 659.5999999999985, 11629.54]\n"
     ]
    }
   ],
   "source": [
    "profit = []\n",
    "for i in range(len(revenue)):\n",
    "    profit.append(revenue[i] - expenses[i])\n",
    "print(profit)"
   ]
  },
  {
   "cell_type": "markdown",
   "metadata": {},
   "source": [
    "---"
   ]
  },
  {
   "cell_type": "code",
   "execution_count": 24,
   "metadata": {},
   "outputs": [
    {
     "name": "stdout",
     "output_type": "stream",
     "text": [
      "[1765.8690000000001, 1337.9730000000002, -2595.4530000000004, -2040.0169999999996, -419.9440000000001, 5085.668, 5747.385, 2761.4790000000003, 2329.8729999999996, -1567.055000000001, 461.719999999999, 8140.678000000001]\n"
     ]
    }
   ],
   "source": [
    "profit_after_tax = []\n",
    "for i in range(len(profit)):\n",
    "    profit_after_tax.append(profit[i] - profit[i]*30/100)\n",
    "print(profit_after_tax)"
   ]
  },
  {
   "cell_type": "markdown",
   "metadata": {},
   "source": [
    "---"
   ]
  },
  {
   "cell_type": "code",
   "execution_count": 25,
   "metadata": {},
   "outputs": [
    {
     "name": "stdout",
     "output_type": "stream",
     "text": [
      "[0.1211616324138958, 0.1758995643176984, -0.3013969837692086, -0.2223352416949215, -0.052110961513404865, 0.6274388558795081, 0.49993432658216397, 0.2827619856052934, 0.2260844884001661, -0.10897492065346503, 0.04309513653668986, 0.5274680403019406]\n"
     ]
    }
   ],
   "source": [
    "profit_for_each_month = []\n",
    "for i in range(len(profit_after_tax)):\n",
    "    profit_for_each_month.append(profit_after_tax[i]/revenue[i])\n",
    "print(profit_for_each_month)"
   ]
  },
  {
   "cell_type": "markdown",
   "metadata": {},
   "source": [
    "---"
   ]
  },
  {
   "cell_type": "code",
   "execution_count": 29,
   "metadata": {},
   "outputs": [
    {
     "name": "stdout",
     "output_type": "stream",
     "text": [
      "[1765.8690000000001, 5085.668, 5747.385, 2761.4790000000003, 2329.8729999999996, 8140.678000000001]\n"
     ]
    }
   ],
   "source": [
    "good_months = []\n",
    "counter = 0\n",
    "for i in range(len(profit_for_each_month)):\n",
    "    if profit_after_tax[i] > mean(profit_after_tax):\n",
    "        good_months.append(profit_after_tax[i])\n",
    "print(good_months)"
   ]
  },
  {
   "cell_type": "code",
   "execution_count": 30,
   "metadata": {},
   "outputs": [
    {
     "name": "stdout",
     "output_type": "stream",
     "text": [
      "[1337.9730000000002, -2595.4530000000004, -2040.0169999999996, -419.9440000000001, -1567.055000000001, 461.719999999999]\n"
     ]
    }
   ],
   "source": [
    "bad_months = []\n",
    "counter = 0\n",
    "for i in range(len(profit_for_each_month)):\n",
    "    if profit_after_tax[i] < mean(profit_after_tax):\n",
    "        bad_months.append(profit_after_tax[i])\n",
    "print(bad_months)"
   ]
  },
  {
   "cell_type": "code",
   "execution_count": 36,
   "metadata": {},
   "outputs": [
    {
     "name": "stdout",
     "output_type": "stream",
     "text": [
      "[8140.678000000001]\n"
     ]
    }
   ],
   "source": [
    "good_months = []\n",
    "counter = 0\n",
    "for i in range(len(profit_for_each_month)):\n",
    "    if profit_after_tax[i] >= max(profit_after_tax):\n",
    "        good_months.append(profit_after_tax[i])\n",
    "print(good_months)"
   ]
  },
  {
   "cell_type": "code",
   "execution_count": 37,
   "metadata": {},
   "outputs": [
    {
     "name": "stdout",
     "output_type": "stream",
     "text": [
      "[1765.8690000000001, 1337.9730000000002, -2595.4530000000004, -2040.0169999999996, -419.9440000000001, 5085.668, 5747.385, 2761.4790000000003, 2329.8729999999996, -1567.055000000001, 461.719999999999, 8140.678000000001]\n"
     ]
    }
   ],
   "source": [
    "good_months = []\n",
    "counter = 0\n",
    "for i in range(len(profit_for_each_month)):\n",
    "    if profit_after_tax[i] >= min(profit_after_tax):\n",
    "        good_months.append(profit_after_tax[i])\n",
    "print(good_months)"
   ]
  },
  {
   "cell_type": "code",
   "execution_count": 34,
   "metadata": {},
   "outputs": [
    {
     "data": {
      "text/plain": [
       "-2595.4530000000004"
      ]
     },
     "execution_count": 34,
     "metadata": {},
     "output_type": "execute_result"
    }
   ],
   "source": [
    "min(profit_after_tax)"
   ]
  },
  {
   "cell_type": "code",
   "execution_count": 35,
   "metadata": {},
   "outputs": [
    {
     "data": {
      "text/plain": [
       "8140.678000000001"
      ]
     },
     "execution_count": 35,
     "metadata": {},
     "output_type": "execute_result"
    }
   ],
   "source": [
    "max(profit_after_tax)"
   ]
  },
  {
   "cell_type": "code",
   "execution_count": null,
   "metadata": {},
   "outputs": [],
   "source": []
  }
 ],
 "metadata": {
  "kernelspec": {
   "display_name": "Python 3",
   "language": "python",
   "name": "python3"
  },
  "language_info": {
   "codemirror_mode": {
    "name": "ipython",
    "version": 3
   },
   "file_extension": ".py",
   "mimetype": "text/x-python",
   "name": "python",
   "nbconvert_exporter": "python",
   "pygments_lexer": "ipython3",
   "version": "3.7.3"
  }
 },
 "nbformat": 4,
 "nbformat_minor": 1
}
