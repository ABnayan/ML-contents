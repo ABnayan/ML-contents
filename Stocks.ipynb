{
 "cells": [
  {
   "cell_type": "code",
   "execution_count": 86,
   "metadata": {},
   "outputs": [],
   "source": [
    "import pandas as pd\n",
    "import numpy as np\n",
    "from datetime import datetime\n",
    "from statistics import mean\n",
    "import statistics\n",
    "import seaborn as sns\n",
    "import matplotlib.pyplot as plt\n",
    "#%matplotlib inline\n",
    "import os\n",
    "import warnings\n",
    "from sklearn.tree import DecisionTreeClassifier,DecisionTreeRegressor\n",
    "from sklearn.neighbors import KNeighborsClassifier,KNeighborsRegressor\n",
    "from sklearn.svm import SVC,SVR\n",
    "from sklearn.naive_bayes import GaussianNB\n",
    "from sklearn.discriminant_analysis import QuadraticDiscriminantAnalysis,LinearDiscriminantAnalysis\n",
    "from sklearn.metrics import accuracy_score,roc_auc_score,precision_score,confusion_matrix,mean_absolute_error,mean_squared_error,r2_score\n",
    "from sklearn import preprocessing\n",
    "from sklearn.linear_model import LinearRegression,LogisticRegression\n",
    "import matplotlib.pyplot as plt\n",
    "from matplotlib.axes import Axes\n",
    "import seaborn as sns\n",
    "from sklearn.feature_selection import SelectFromModel\n",
    "from sklearn.ensemble import RandomForestClassifier,GradientBoostingClassifier,RandomForestRegressor,ExtraTreesClassifier ,GradientBoostingRegressor\n",
    "from sklearn.feature_selection import RFECV,RFE,VarianceThreshold\n",
    "from sklearn.model_selection import cross_val_score,StratifiedKFold,train_test_split,learning_curve,GridSearchCV,StratifiedShuffleSplit\n",
    "from sklearn.pipeline import make_pipeline\n",
    "from sklearn.decomposition import PCA\n",
    "from collections import Counter\n",
    "import time\n",
    "#import scikitplot as skplt\n",
    "import itertools\n",
    "warnings.filterwarnings('ignore')\n",
    "# Import label encoder \n",
    "from sklearn import preprocessing \n",
    "import json\n",
    "from sklearn.preprocessing import StandardScaler"
   ]
  },
  {
   "cell_type": "code",
   "execution_count": 87,
   "metadata": {},
   "outputs": [],
   "source": [
    "df = pd.read_csv(\"stock_quotes.csv\")    \n",
    "X = df.iloc[:,2:].values\n",
    "y = df.iloc[:,1].values"
   ]
  },
  {
   "cell_type": "code",
   "execution_count": 88,
   "metadata": {},
   "outputs": [],
   "source": [
    "X_train, X_test, y_train, y_test = train_test_split(X,y,test_size=0.2, random_state=0)"
   ]
  },
  {
   "cell_type": "code",
   "execution_count": 89,
   "metadata": {},
   "outputs": [],
   "source": [
    "check_test = y_test"
   ]
  },
  {
   "cell_type": "code",
   "execution_count": 90,
   "metadata": {},
   "outputs": [],
   "source": [
    "# sss = StratifiedShuffleSplit(n_splits=5, test_size=0.3, random_state=42)\n",
    "# for train_index, test_index in sss.split(X, df.iloc[:,1].values):\n",
    "#     #print(\"TRAIN:\", train_index, \"TEST:\", test_index)\n",
    "#     X_train, X_test = X[train_index], X[test_index]\n",
    "#     y_train, y_test = y[train_index], y[test_index]\n",
    "# columns = ['high','low','close','volume']\n",
    "# X_train=pd.DataFrame(X_train,columns=columns)\n",
    "# #print(X_train.columns)\n",
    "# #X_train.hist(figsize=(10,15))\n",
    "# X_test=pd.DataFrame(X_test,columns=columns)"
   ]
  },
  {
   "cell_type": "code",
   "execution_count": 91,
   "metadata": {},
   "outputs": [],
   "source": [
    "### StandardScaler based transform\n",
    "sc = StandardScaler()\n",
    "X_train = sc.fit_transform(X_train)\n",
    "X_test = sc.transform(X_test)"
   ]
  },
  {
   "cell_type": "code",
   "execution_count": null,
   "metadata": {},
   "outputs": [],
   "source": []
  },
  {
   "cell_type": "code",
   "execution_count": 92,
   "metadata": {},
   "outputs": [],
   "source": [
    "# Baseline - comparing model accuracy using all features across classifiers \n",
    "classifiers = [\n",
    "    LinearRegression(),\n",
    "    RandomForestRegressor(),\n",
    "#     LogisticRegression(),\n",
    "#     LinearDiscriminantAnalysis(),\n",
    "#     QuadraticDiscriminantAnalysis(),\n",
    "    GradientBoostingRegressor(),\n",
    "    KNeighborsRegressor(),\n",
    "    SVR(),\n",
    "    DecisionTreeRegressor()\n",
    "    ]\n"
   ]
  },
  {
   "cell_type": "code",
   "execution_count": 93,
   "metadata": {},
   "outputs": [
    {
     "name": "stdout",
     "output_type": "stream",
     "text": [
      "LinearRegression(copy_X=True, fit_intercept=True, n_jobs=None, normalize=False)\n",
      "[0.9985982895721701]\n",
      "[12.129036195133269]\n",
      "[255.58146521909345]\n",
      "RandomForestRegressor(bootstrap=True, ccp_alpha=0.0, criterion='mse',\n",
      "                      max_depth=None, max_features='auto', max_leaf_nodes=None,\n",
      "                      max_samples=None, min_impurity_decrease=0.0,\n",
      "                      min_impurity_split=None, min_samples_leaf=1,\n",
      "                      min_samples_split=2, min_weight_fraction_leaf=0.0,\n",
      "                      n_estimators=100, n_jobs=None, oob_score=False,\n",
      "                      random_state=None, verbose=0, warm_start=False)\n",
      "[0.9969172156770053]\n",
      "[17.24628618953203]\n",
      "[562.1007867119508]\n",
      "GradientBoostingRegressor(alpha=0.9, ccp_alpha=0.0, criterion='friedman_mse',\n",
      "                          init=None, learning_rate=0.1, loss='ls', max_depth=3,\n",
      "                          max_features=None, max_leaf_nodes=None,\n",
      "                          min_impurity_decrease=0.0, min_impurity_split=None,\n",
      "                          min_samples_leaf=1, min_samples_split=2,\n",
      "                          min_weight_fraction_leaf=0.0, n_estimators=100,\n",
      "                          n_iter_no_change=None, presort='deprecated',\n",
      "                          random_state=None, subsample=1.0, tol=0.0001,\n",
      "                          validation_fraction=0.1, verbose=0, warm_start=False)\n",
      "[0.9962166488457519]\n",
      "[18.508819555749177]\n",
      "[689.8389369466593]\n",
      "KNeighborsRegressor(algorithm='auto', leaf_size=30, metric='minkowski',\n",
      "                    metric_params=None, n_jobs=None, n_neighbors=5, p=2,\n",
      "                    weights='uniform')\n",
      "[0.9922235212889337]\n",
      "[23.88939763849432]\n",
      "[1417.9275432064373]\n",
      "SVR(C=1.0, cache_size=200, coef0=0.0, degree=3, epsilon=0.1, gamma='scale',\n",
      "    kernel='rbf', max_iter=-1, shrinking=True, tol=0.001, verbose=False)\n",
      "[0.26980760904252654]\n",
      "[265.5533541805311]\n",
      "[133139.93922531742]\n",
      "DecisionTreeRegressor(ccp_alpha=0.0, criterion='mse', max_depth=None,\n",
      "                      max_features=None, max_leaf_nodes=None,\n",
      "                      min_impurity_decrease=0.0, min_impurity_split=None,\n",
      "                      min_samples_leaf=1, min_samples_split=2,\n",
      "                      min_weight_fraction_leaf=0.0, presort='deprecated',\n",
      "                      random_state=None, splitter='best')\n",
      "[0.994202733459738]\n",
      "[23.159586588541675]\n",
      "[1057.0470528066764]\n"
     ]
    }
   ],
   "source": [
    "r2score = []\n",
    "MAE = []\n",
    "MSE = []\n",
    "MAPE = []\n",
    "for clf in classifiers:\n",
    "    clf.fit(X_train,y_train)\n",
    "    y_pred=clf.predict(X_test)\n",
    "    print(clf)\n",
    "    r2score.append(clf.score(X_test,y_test))\n",
    "    MAE.append(mean_absolute_error(y_test,y_pred))\n",
    "    MSE.append(mean_squared_error(y_test,y_pred))\n",
    "#     print(MAPE.append(mean_absolute_percentage_error(y_test,y_pred)))\n",
    "    print(r2score)\n",
    "    print(MAE)\n",
    "    print(MSE)\n",
    "    r2score.clear()\n",
    "    MAE.clear()\n",
    "    MSE.clear()\n",
    "#     MAPE.clear()"
   ]
  },
  {
   "cell_type": "code",
   "execution_count": 94,
   "metadata": {},
   "outputs": [
    {
     "name": "stdout",
     "output_type": "stream",
     "text": [
      "LinearRegression(copy_X=True, fit_intercept=True, n_jobs=None, normalize=False)\n",
      "[0.9985982895721702]\n",
      "[12.129036195133269]\n",
      "[255.58146521909345]\n",
      "RandomForestRegressor(bootstrap=True, ccp_alpha=0.0, criterion='mse',\n",
      "                      max_depth=None, max_features='auto', max_leaf_nodes=None,\n",
      "                      max_samples=None, min_impurity_decrease=0.0,\n",
      "                      min_impurity_split=None, min_samples_leaf=1,\n",
      "                      min_samples_split=2, min_weight_fraction_leaf=0.0,\n",
      "                      n_estimators=100, n_jobs=None, oob_score=False,\n",
      "                      random_state=None, verbose=0, warm_start=False)\n",
      "[0.9968448252286402]\n",
      "[17.427739960641592]\n",
      "[575.3001298100011]\n",
      "GradientBoostingRegressor(alpha=0.9, ccp_alpha=0.0, criterion='friedman_mse',\n",
      "                          init=None, learning_rate=0.1, loss='ls', max_depth=3,\n",
      "                          max_features=None, max_leaf_nodes=None,\n",
      "                          min_impurity_decrease=0.0, min_impurity_split=None,\n",
      "                          min_samples_leaf=1, min_samples_split=2,\n",
      "                          min_weight_fraction_leaf=0.0, n_estimators=100,\n",
      "                          n_iter_no_change=None, presort='deprecated',\n",
      "                          random_state=None, subsample=1.0, tol=0.0001,\n",
      "                          validation_fraction=0.1, verbose=0, warm_start=False)\n",
      "[0.9965096107468919]\n",
      "[18.296634319123736]\n",
      "[636.4216044790024]\n",
      "KNeighborsRegressor(algorithm='auto', leaf_size=30, metric='minkowski',\n",
      "                    metric_params=None, n_jobs=None, n_neighbors=5, p=2,\n",
      "                    weights='uniform')\n",
      "[0.9922235212889335]\n",
      "[23.88939763849432]\n",
      "[1417.9275432064373]\n",
      "SVR(C=1.0, cache_size=200, coef0=0.0, degree=3, epsilon=0.1, gamma='scale',\n",
      "    kernel='rbf', max_iter=-1, shrinking=True, tol=0.001, verbose=False)\n",
      "[0.26980760904252654]\n",
      "[265.5533541805311]\n",
      "[133139.93922531742]\n",
      "DecisionTreeRegressor(ccp_alpha=0.0, criterion='mse', max_depth=None,\n",
      "                      max_features=None, max_leaf_nodes=None,\n",
      "                      min_impurity_decrease=0.0, min_impurity_split=None,\n",
      "                      min_samples_leaf=1, min_samples_split=2,\n",
      "                      min_weight_fraction_leaf=0.0, presort='deprecated',\n",
      "                      random_state=None, splitter='best')\n",
      "[0.9946917829463672]\n",
      "[23.527261136758206]\n",
      "[967.8760072927588]\n"
     ]
    }
   ],
   "source": [
    "r2score = []\n",
    "MAE = []\n",
    "MSE = []\n",
    "MAPE = []\n",
    "for clf in classifiers:\n",
    "    clf.fit(X_train,y_train)\n",
    "    y_pred=clf.predict(X_test)\n",
    "    print(clf)\n",
    "    r2score.append(r2_score(y_test,y_pred))\n",
    "    MAE.append(mean_absolute_error(y_test,y_pred))\n",
    "    MSE.append(mean_squared_error(y_test,y_pred))\n",
    "#     print(MAPE.append(mean_absolute_percentage_error(y_test,y_pred)))\n",
    "    print(r2score)\n",
    "    print(MAE)\n",
    "    print(MSE)\n",
    "    r2score.clear()\n",
    "    MAE.clear()\n",
    "    MSE.clear()\n",
    "#     MAPE.clear()"
   ]
  },
  {
   "cell_type": "code",
   "execution_count": null,
   "metadata": {},
   "outputs": [],
   "source": []
  },
  {
   "cell_type": "code",
   "execution_count": 95,
   "metadata": {},
   "outputs": [],
   "source": [
    "# # Naive Train Accuracy\n",
    "# algo = []\n",
    "# scores = []\n",
    "# for clf in classifiers:\n",
    "#     breakpoint()\n",
    "#     algo.append(clf.__class__.__name__)\n",
    "#     scores.append(cross_val_score(clf,X_train,y_train, cv=5,scoring='accuracy').mean())\n",
    "# warnings.filterwarnings('ignore')\n",
    "# Naivescore_df_Train = pd.DataFrame({'Algorithm': algo, 'Score': scores}).set_index('Algorithm')\n",
    "\n",
    "# print(\"Train\",Naivescore_df_Train)"
   ]
  },
  {
   "cell_type": "code",
   "execution_count": 96,
   "metadata": {},
   "outputs": [],
   "source": [
    "#"
   ]
  },
  {
   "cell_type": "code",
   "execution_count": 97,
   "metadata": {},
   "outputs": [],
   "source": [
    "rf = LinearRegression()\n",
    "rf.fit(X_train,y_train)\n",
    "y_pred=rf.predict(X_test)\n"
   ]
  },
  {
   "cell_type": "code",
   "execution_count": 98,
   "metadata": {},
   "outputs": [
    {
     "data": {
      "text/plain": [
       "array([2027.29591404, 3049.87199614, 2165.05980566, 2632.15214275,\n",
       "       3146.96046484, 2108.98417385, 2650.32638939, 2106.23104946,\n",
       "       3108.18967111, 2242.1545871 , 2121.52975691, 2196.07686535,\n",
       "       2736.26758905, 2901.58006782, 2657.30674372, 2183.97253207,\n",
       "       1907.18125657, 2011.75124531, 2047.52740069, 2133.42411453,\n",
       "       1994.52496685, 2310.14607966, 2257.89209957, 2173.05810358,\n",
       "       2082.31302498, 2307.71015313, 2719.30474285, 2095.90519547,\n",
       "       3182.62511821, 2032.42305373, 2074.25193613, 3251.60990391,\n",
       "       2131.33769551, 2480.86304225, 2424.28813905, 2216.32577114,\n",
       "       1878.59446646, 3084.42447495, 2201.79203583, 2159.47164649,\n",
       "       3064.44932443, 2221.48783952, 2121.54307202, 2050.75859155,\n",
       "       1983.36441804, 2169.65183329, 2117.81797463, 2776.17341457,\n",
       "       1720.14325667, 2819.08545686, 3108.96458319, 2075.68412466,\n",
       "       2248.03051069, 2268.19385159, 3250.24968481, 1681.46795164,\n",
       "       2097.45499062, 3146.44220943, 2239.02438278, 1962.61544459,\n",
       "       2178.52916454, 2933.90229785, 3174.33500708, 2276.50403339,\n",
       "       2181.86748223, 2216.0276963 , 3206.04737126, 1952.28529238,\n",
       "       2141.45867307, 2062.21855111, 2101.69805294, 2057.98385983,\n",
       "       2309.79193861, 2066.00787097, 2256.86107065, 2031.93213898,\n",
       "       2189.79291795, 1925.30931806, 3025.72697293, 2110.5536256 ,\n",
       "       2844.96162605, 2691.04291511, 2196.64318022, 2045.21066263,\n",
       "       3047.5690174 , 2043.4333614 , 2938.1530447 , 2059.17983187,\n",
       "       1791.50737608, 3231.82223041, 2838.30157488, 3094.93297288,\n",
       "       2042.49328653, 2362.49673085, 2010.5992758 , 2208.5012315 ,\n",
       "       2264.5273194 , 3068.35452111, 1842.43381176])"
      ]
     },
     "execution_count": 98,
     "metadata": {},
     "output_type": "execute_result"
    }
   ],
   "source": [
    "y_pred"
   ]
  },
  {
   "cell_type": "code",
   "execution_count": 99,
   "metadata": {},
   "outputs": [
    {
     "data": {
      "text/plain": [
       "array([2023.        , 3075.        , 2157.        , 2653.        ,\n",
       "       3140.        , 2124.60009766, 2665.        , 2115.        ,\n",
       "       3111.        , 2254.        , 2138.85009766, 2209.89990234,\n",
       "       2738.        , 2879.        , 2645.30004883, 2192.        ,\n",
       "       1922.        , 1995.        , 2037.        , 2136.69995117,\n",
       "       2020.        , 2310.        , 2254.        , 2167.        ,\n",
       "       2091.        , 2300.5       , 2719.        , 2090.        ,\n",
       "       3185.19995117, 2025.09997559, 2087.        , 3278.        ,\n",
       "       2130.        , 2480.        , 2377.        , 2219.        ,\n",
       "       1915.        , 3100.        , 2194.89990234, 2157.        ,\n",
       "       3060.        , 2232.30004883, 2170.5       , 2061.        ,\n",
       "       1996.69995117, 2187.        , 2131.64990234, 2800.10009766,\n",
       "       1740.        , 2840.14990234, 3095.        , 2080.        ,\n",
       "       2255.        , 2264.80004883, 3244.35009766, 1688.        ,\n",
       "       2095.        , 3150.        , 2232.        , 1956.09997559,\n",
       "       2160.        , 2937.        , 3191.10009766, 2299.        ,\n",
       "       2180.        , 2215.        , 3207.        , 1955.        ,\n",
       "       2125.        , 2065.        , 2106.        , 2048.14990234,\n",
       "       2292.        , 2054.89990234, 2250.        , 2015.        ,\n",
       "       2196.10009766, 1928.        , 3008.05004883, 2114.        ,\n",
       "       2830.        , 2695.        , 2199.        , 2063.39990234,\n",
       "       3020.        , 2085.        , 2930.        , 2025.        ,\n",
       "       1770.        , 3197.        , 2845.        , 3080.55004883,\n",
       "       2052.85009766, 2330.5       , 2015.        , 2208.69995117,\n",
       "       2274.39990234, 3065.        , 1866.5       ])"
      ]
     },
     "execution_count": 99,
     "metadata": {},
     "output_type": "execute_result"
    }
   ],
   "source": [
    "check_test"
   ]
  },
  {
   "cell_type": "code",
   "execution_count": 100,
   "metadata": {},
   "outputs": [
    {
     "data": {
      "text/plain": [
       "99"
      ]
     },
     "execution_count": 100,
     "metadata": {},
     "output_type": "execute_result"
    }
   ],
   "source": [
    "len(y_pred)"
   ]
  },
  {
   "cell_type": "code",
   "execution_count": 101,
   "metadata": {},
   "outputs": [
    {
     "data": {
      "text/plain": [
       "99"
      ]
     },
     "execution_count": 101,
     "metadata": {},
     "output_type": "execute_result"
    }
   ],
   "source": [
    "len(y_test)"
   ]
  },
  {
   "cell_type": "code",
   "execution_count": 104,
   "metadata": {},
   "outputs": [],
   "source": [
    "df1 = pd.DataFrame()\n",
    "df1['Check_test'] = check_test\n",
    "df1['y_pred'] = y_pred"
   ]
  },
  {
   "cell_type": "code",
   "execution_count": 105,
   "metadata": {},
   "outputs": [
    {
     "data": {
      "text/html": [
       "<div>\n",
       "<style scoped>\n",
       "    .dataframe tbody tr th:only-of-type {\n",
       "        vertical-align: middle;\n",
       "    }\n",
       "\n",
       "    .dataframe tbody tr th {\n",
       "        vertical-align: top;\n",
       "    }\n",
       "\n",
       "    .dataframe thead th {\n",
       "        text-align: right;\n",
       "    }\n",
       "</style>\n",
       "<table border=\"1\" class=\"dataframe\">\n",
       "  <thead>\n",
       "    <tr style=\"text-align: right;\">\n",
       "      <th></th>\n",
       "      <th>Check_test</th>\n",
       "      <th>y_pred</th>\n",
       "    </tr>\n",
       "  </thead>\n",
       "  <tbody>\n",
       "    <tr>\n",
       "      <th>0</th>\n",
       "      <td>2023.000000</td>\n",
       "      <td>2027.295914</td>\n",
       "    </tr>\n",
       "    <tr>\n",
       "      <th>1</th>\n",
       "      <td>3075.000000</td>\n",
       "      <td>3049.871996</td>\n",
       "    </tr>\n",
       "    <tr>\n",
       "      <th>2</th>\n",
       "      <td>2157.000000</td>\n",
       "      <td>2165.059806</td>\n",
       "    </tr>\n",
       "    <tr>\n",
       "      <th>3</th>\n",
       "      <td>2653.000000</td>\n",
       "      <td>2632.152143</td>\n",
       "    </tr>\n",
       "    <tr>\n",
       "      <th>4</th>\n",
       "      <td>3140.000000</td>\n",
       "      <td>3146.960465</td>\n",
       "    </tr>\n",
       "    <tr>\n",
       "      <th>...</th>\n",
       "      <td>...</td>\n",
       "      <td>...</td>\n",
       "    </tr>\n",
       "    <tr>\n",
       "      <th>94</th>\n",
       "      <td>2015.000000</td>\n",
       "      <td>2010.599276</td>\n",
       "    </tr>\n",
       "    <tr>\n",
       "      <th>95</th>\n",
       "      <td>2208.699951</td>\n",
       "      <td>2208.501231</td>\n",
       "    </tr>\n",
       "    <tr>\n",
       "      <th>96</th>\n",
       "      <td>2274.399902</td>\n",
       "      <td>2264.527319</td>\n",
       "    </tr>\n",
       "    <tr>\n",
       "      <th>97</th>\n",
       "      <td>3065.000000</td>\n",
       "      <td>3068.354521</td>\n",
       "    </tr>\n",
       "    <tr>\n",
       "      <th>98</th>\n",
       "      <td>1866.500000</td>\n",
       "      <td>1842.433812</td>\n",
       "    </tr>\n",
       "  </tbody>\n",
       "</table>\n",
       "<p>99 rows × 2 columns</p>\n",
       "</div>"
      ],
      "text/plain": [
       "     Check_test       y_pred\n",
       "0   2023.000000  2027.295914\n",
       "1   3075.000000  3049.871996\n",
       "2   2157.000000  2165.059806\n",
       "3   2653.000000  2632.152143\n",
       "4   3140.000000  3146.960465\n",
       "..          ...          ...\n",
       "94  2015.000000  2010.599276\n",
       "95  2208.699951  2208.501231\n",
       "96  2274.399902  2264.527319\n",
       "97  3065.000000  3068.354521\n",
       "98  1866.500000  1842.433812\n",
       "\n",
       "[99 rows x 2 columns]"
      ]
     },
     "execution_count": 105,
     "metadata": {},
     "output_type": "execute_result"
    }
   ],
   "source": [
    "df1"
   ]
  },
  {
   "cell_type": "code",
   "execution_count": 107,
   "metadata": {},
   "outputs": [
    {
     "name": "stdout",
     "output_type": "stream",
     "text": [
      "0.9985982895721702\n"
     ]
    }
   ],
   "source": [
    "print(r2_score(y_test,y_pred))"
   ]
  },
  {
   "cell_type": "code",
   "execution_count": null,
   "metadata": {},
   "outputs": [],
   "source": []
  }
 ],
 "metadata": {
  "kernelspec": {
   "display_name": "Python 3",
   "language": "python",
   "name": "python3"
  },
  "language_info": {
   "codemirror_mode": {
    "name": "ipython",
    "version": 3
   },
   "file_extension": ".py",
   "mimetype": "text/x-python",
   "name": "python",
   "nbconvert_exporter": "python",
   "pygments_lexer": "ipython3",
   "version": "3.7.6"
  }
 },
 "nbformat": 4,
 "nbformat_minor": 4
}
