{
 "cells": [
  {
   "cell_type": "code",
   "execution_count": 2,
   "metadata": {},
   "outputs": [],
   "source": [
    "import pandas as pd\n",
    "import numpy as np\n",
    "from datetime import datetime\n",
    "from statistics import mean\n",
    "import statistics\n",
    "import seaborn as sns\n",
    "import matplotlib.pyplot as plt\n",
    "#%matplotlib inline\n",
    "import os\n",
    "import warnings\n",
    "from sklearn.tree import DecisionTreeClassifier,DecisionTreeRegressor\n",
    "from sklearn.neighbors import KNeighborsClassifier,KNeighborsRegressor\n",
    "from sklearn.svm import SVC,SVR\n",
    "from sklearn.naive_bayes import GaussianNB\n",
    "from sklearn.discriminant_analysis import QuadraticDiscriminantAnalysis,LinearDiscriminantAnalysis\n",
    "from sklearn.metrics import accuracy_score,roc_auc_score,precision_score,confusion_matrix,mean_absolute_error,mean_squared_error,r2_score\n",
    "from sklearn import preprocessing\n",
    "from sklearn.linear_model import LinearRegression,LogisticRegression\n",
    "import matplotlib.pyplot as plt\n",
    "from matplotlib.axes import Axes\n",
    "import seaborn as sns\n",
    "from sklearn.feature_selection import SelectFromModel\n",
    "from sklearn.ensemble import RandomForestClassifier,GradientBoostingClassifier,RandomForestRegressor,ExtraTreesClassifier ,GradientBoostingRegressor\n",
    "from sklearn.feature_selection import RFECV,RFE,VarianceThreshold\n",
    "from sklearn.model_selection import cross_val_score,StratifiedKFold,train_test_split,learning_curve,GridSearchCV,StratifiedShuffleSplit\n",
    "from sklearn.pipeline import make_pipeline\n",
    "from sklearn.decomposition import PCA\n",
    "from collections import Counter\n",
    "import time\n",
    "#import scikitplot as skplt\n",
    "import itertools\n",
    "warnings.filterwarnings('ignore')\n",
    "# Import label encoder \n",
    "from sklearn import preprocessing \n",
    "import json\n",
    "from sklearn.preprocessing import StandardScaler"
   ]
  },
  {
   "cell_type": "code",
   "execution_count": 3,
   "metadata": {},
   "outputs": [],
   "source": [
    "df = pd.read_csv(\"stock_quotes.csv\")    \n",
    "X = df.iloc[:,2:].values\n",
    "y = df.iloc[:,1].values"
   ]
  },
  {
   "cell_type": "code",
   "execution_count": 4,
   "metadata": {},
   "outputs": [],
   "source": [
    "X_train, X_test, y_train, y_test = train_test_split(X,y,test_size=0.2, random_state=0)"
   ]
  },
  {
   "cell_type": "code",
   "execution_count": 5,
   "metadata": {},
   "outputs": [],
   "source": [
    "# sss = StratifiedShuffleSplit(n_splits=5, test_size=0.3, random_state=42)\n",
    "# for train_index, test_index in sss.split(X, df.iloc[:,1].values):\n",
    "#     #print(\"TRAIN:\", train_index, \"TEST:\", test_index)\n",
    "#     X_train, X_test = X[train_index], X[test_index]\n",
    "#     y_train, y_test = y[train_index], y[test_index]\n",
    "# columns = ['high','low','close','volume']\n",
    "# X_train=pd.DataFrame(X_train,columns=columns)\n",
    "# #print(X_train.columns)\n",
    "# #X_train.hist(figsize=(10,15))\n",
    "# X_test=pd.DataFrame(X_test,columns=columns)"
   ]
  },
  {
   "cell_type": "code",
   "execution_count": 6,
   "metadata": {},
   "outputs": [],
   "source": [
    "### StandardScaler based transform\n",
    "sc = StandardScaler()\n",
    "X_train = sc.fit_transform(X_train)\n",
    "X_test = sc.transform(X_test)"
   ]
  },
  {
   "cell_type": "code",
   "execution_count": 7,
   "metadata": {},
   "outputs": [],
   "source": [
    "# Baseline - comparing model accuracy using all features across classifiers \n",
    "classifiers = [\n",
    "    LinearRegression(),\n",
    "    RandomForestRegressor(),\n",
    "#     LogisticRegression(),\n",
    "#     LinearDiscriminantAnalysis(),\n",
    "#     QuadraticDiscriminantAnalysis(),\n",
    "    GradientBoostingRegressor(),\n",
    "    KNeighborsRegressor(),\n",
    "    SVR(),\n",
    "    DecisionTreeRegressor()\n",
    "    ]\n"
   ]
  },
  {
   "cell_type": "code",
   "execution_count": 8,
   "metadata": {},
   "outputs": [
    {
     "name": "stdout",
     "output_type": "stream",
     "text": [
      "LinearRegression(copy_X=True, fit_intercept=True, n_jobs=None, normalize=False)\n",
      "[0.9985982895721701]\n",
      "[12.129036195133269]\n",
      "[255.58146521909345]\n",
      "RandomForestRegressor(bootstrap=True, ccp_alpha=0.0, criterion='mse',\n",
      "                      max_depth=None, max_features='auto', max_leaf_nodes=None,\n",
      "                      max_samples=None, min_impurity_decrease=0.0,\n",
      "                      min_impurity_split=None, min_samples_leaf=1,\n",
      "                      min_samples_split=2, min_weight_fraction_leaf=0.0,\n",
      "                      n_estimators=100, n_jobs=None, oob_score=False,\n",
      "                      random_state=None, verbose=0, warm_start=False)\n",
      "[0.996812860632634]\n",
      "[17.387274909741958]\n",
      "[581.1284079765805]\n",
      "GradientBoostingRegressor(alpha=0.9, ccp_alpha=0.0, criterion='friedman_mse',\n",
      "                          init=None, learning_rate=0.1, loss='ls', max_depth=3,\n",
      "                          max_features=None, max_leaf_nodes=None,\n",
      "                          min_impurity_decrease=0.0, min_impurity_split=None,\n",
      "                          min_samples_leaf=1, min_samples_split=2,\n",
      "                          min_weight_fraction_leaf=0.0, n_estimators=100,\n",
      "                          n_iter_no_change=None, presort='deprecated',\n",
      "                          random_state=None, subsample=1.0, tol=0.0001,\n",
      "                          validation_fraction=0.1, verbose=0, warm_start=False)\n",
      "[0.9962491420497697]\n",
      "[18.420527460602262]\n",
      "[683.9142748141234]\n",
      "KNeighborsRegressor(algorithm='auto', leaf_size=30, metric='minkowski',\n",
      "                    metric_params=None, n_jobs=None, n_neighbors=5, p=2,\n",
      "                    weights='uniform')\n",
      "[0.9922235212889337]\n",
      "[23.88939763849432]\n",
      "[1417.9275432064373]\n",
      "SVR(C=1.0, cache_size=200, coef0=0.0, degree=3, epsilon=0.1, gamma='scale',\n",
      "    kernel='rbf', max_iter=-1, shrinking=True, tol=0.001, verbose=False)\n",
      "[0.26980760904252654]\n",
      "[265.5533541805311]\n",
      "[133139.93922531742]\n",
      "DecisionTreeRegressor(ccp_alpha=0.0, criterion='mse', max_depth=None,\n",
      "                      max_features=None, max_leaf_nodes=None,\n",
      "                      min_impurity_decrease=0.0, min_impurity_split=None,\n",
      "                      min_samples_leaf=1, min_samples_split=2,\n",
      "                      min_weight_fraction_leaf=0.0, presort='deprecated',\n",
      "                      random_state=None, splitter='best')\n",
      "[0.9948431856222805]\n",
      "[22.60100393584281]\n",
      "[940.2699361815297]\n"
     ]
    }
   ],
   "source": [
    "r2score = []\n",
    "MAE = []\n",
    "MSE = []\n",
    "MAPE = []\n",
    "for clf in classifiers:\n",
    "    clf.fit(X_train,y_train)\n",
    "    y_pred=clf.predict(X_test)\n",
    "    print(clf)\n",
    "    r2score.append(clf.score(X_test,y_test))\n",
    "    MAE.append(mean_absolute_error(y_test,y_pred))\n",
    "    MSE.append(mean_squared_error(y_test,y_pred))\n",
    "#     print(MAPE.append(mean_absolute_percentage_error(y_test,y_pred)))\n",
    "    print(r2score)\n",
    "    print(MAE)\n",
    "    print(MSE)\n",
    "    r2score.clear()\n",
    "    MAE.clear()\n",
    "    MSE.clear()\n",
    "#     MAPE.clear()"
   ]
  },
  {
   "cell_type": "code",
   "execution_count": null,
   "metadata": {},
   "outputs": [],
   "source": [
    "r2score = []\n",
    "MAE = []\n",
    "MSE = []\n",
    "MAPE = []\n",
    "for clf in classifiers:\n",
    "    breakpoint()\n",
    "    clf.fit(X_train,y_train)\n",
    "    y_pred=clf.predict(X_test)\n",
    "    print(clf)\n",
    "    r2score = r2_score(y_test,y_pred)\n",
    "    MAE = mean_absolute_error(y_test,y_pred)\n",
    "    MSE = mean_squared_error(y_test,y_pred)\n",
    "#     print(MAPE.append(mean_absolute_percentage_error(y_test,y_pred)))\n",
    "    print(r2score)\n",
    "    print(MAE)\n",
    "    print(MSE)\n",
    "#     r2score.clear()\n",
    "#     MAE.clear()\n",
    "#     MSE.clear()\n",
    "#     MAPE.clear()"
   ]
  },
  {
   "cell_type": "code",
   "execution_count": null,
   "metadata": {},
   "outputs": [],
   "source": []
  },
  {
   "cell_type": "code",
   "execution_count": null,
   "metadata": {},
   "outputs": [],
   "source": [
    "# # Naive Train Accuracy\n",
    "# algo = []\n",
    "# scores = []\n",
    "# for clf in classifiers:\n",
    "#     breakpoint()\n",
    "#     algo.append(clf.__class__.__name__)\n",
    "#     scores.append(cross_val_score(clf,X_train,y_train, cv=5,scoring='accuracy').mean())\n",
    "# warnings.filterwarnings('ignore')\n",
    "# Naivescore_df_Train = pd.DataFrame({'Algorithm': algo, 'Score': scores}).set_index('Algorithm')\n",
    "\n",
    "# print(\"Train\",Naivescore_df_Train)"
   ]
  },
  {
   "cell_type": "code",
   "execution_count": null,
   "metadata": {},
   "outputs": [],
   "source": [
    "# Naive Test Accuracy\n",
    "algo = []\n",
    "# scores = [[]]\n",
    "Score={}\n",
    "\n",
    "for i,clf in enumerate(classifiers):\n",
    "    clf = clf.fit(X_train, y_train)\n",
    "    y_pred = clf.predict(X_test)\n",
    "    algo.append(clf.__class__.__name__)\n",
    "    #y_pred=label_encoder.fit_transform(y_pred)\n",
    "    Score[i]=pd.DataFrame({\"Predicted\":y_pred,\"Actual\":y_test})\n",
    "    scores = clf.score(y_pred, y_test)\n",
    "#warnings.filterwarnings('ignore')\n",
    "Naivescore_df_Test  = pd.DataFrame({'Algorithm': algo, 'Score': scores}).set_index('Algorithm')\n",
    "\n",
    "print(\"Test\",Naivescore_df_Test)"
   ]
  },
  {
   "cell_type": "code",
   "execution_count": null,
   "metadata": {},
   "outputs": [],
   "source": []
  }
 ],
 "metadata": {
  "kernelspec": {
   "display_name": "Python 3",
   "language": "python",
   "name": "python3"
  },
  "language_info": {
   "codemirror_mode": {
    "name": "ipython",
    "version": 3
   },
   "file_extension": ".py",
   "mimetype": "text/x-python",
   "name": "python",
   "nbconvert_exporter": "python",
   "pygments_lexer": "ipython3",
   "version": "3.7.6"
  }
 },
 "nbformat": 4,
 "nbformat_minor": 4
}
