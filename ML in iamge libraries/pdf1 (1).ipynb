{
 "cells": [
  {
   "cell_type": "code",
   "execution_count": null,
   "metadata": {},
   "outputs": [],
   "source": [
    "pip install tabula-py\n"
   ]
  },
  {
   "cell_type": "code",
   "execution_count": null,
   "metadata": {},
   "outputs": [],
   "source": [
    "#pip install pdfminer.six"
   ]
  },
  {
   "cell_type": "code",
   "execution_count": null,
   "metadata": {},
   "outputs": [],
   "source": [
    "#pip install pdfminer.six"
   ]
  },
  {
   "cell_type": "code",
   "execution_count": null,
   "metadata": {},
   "outputs": [],
   "source": [
    "#pip install nltk\n"
   ]
  },
  {
   "cell_type": "code",
   "execution_count": null,
   "metadata": {},
   "outputs": [],
   "source": [
    "#pip install numpy\n"
   ]
  },
  {
   "cell_type": "code",
   "execution_count": null,
   "metadata": {},
   "outputs": [],
   "source": [
    "pip install pandas"
   ]
  },
  {
   "cell_type": "code",
   "execution_count": null,
   "metadata": {},
   "outputs": [],
   "source": [
    "from tabula import read_pdf , convert_into\n",
    "\n",
    "df = read_pdf(\"C:\\\\Users\\\\Drl\\\\Desktop\\\\pdf table extract\\\\pdf\\\\11669695.pdf\",pages='all',stream=True,columns=[10.1, 20.2, 30.3,40.3,50.3,60.3,70.3])\n",
    "print(df)"
   ]
  },
  {
   "cell_type": "code",
   "execution_count": null,
   "metadata": {},
   "outputs": [],
   "source": [
    "from tabula import read_pdf , convert_into\n",
    "\n",
    "df = read_pdf(\"C:\\\\Users\\\\Drl\\\\Desktop\\\\pdf table extract\\\\pdf\\\\11669695.pdf\",pages='all')\n",
    "print(df)"
   ]
  },
  {
   "cell_type": "code",
   "execution_count": null,
   "metadata": {},
   "outputs": [],
   "source": [
    "convert_into(\"C:\\\\Users\\\\Drl\\\\Desktop\\\\pdf table extract\\\\pdf\\\\11669695.pdf\",\"C:\\\\Users\\\\Drl\\\\Desktop\\\\pdf table extract\\\\nayan1.csv\",ouput_format=\"csv\",pages='all',pandas_options={'header': None})"
   ]
  },
  {
   "cell_type": "code",
   "execution_count": null,
   "metadata": {},
   "outputs": [],
   "source": [
    "convert_into(\"C:\\\\Users\\\\Drl\\\\Desktop\\\\pdf table extract\\\\pdf\\\\11669695.pdf\",\"C:\\\\Users\\\\Drl\\\\Desktop\\\\pdf table extract\\\\nayan.tsv\",ouput_format=\"tsv\",pages='all')"
   ]
  },
  {
   "cell_type": "code",
   "execution_count": null,
   "metadata": {},
   "outputs": [],
   "source": [
    "from tabula import wrapper\n",
    "df = wrapper.read_pdf(\"C:\\\\Users\\\\Drl\\\\Desktop\\\\pdf table extract\\\\pdf\\\\11669695.pdf\", output_format=\"dataframe\", encoding=\"utf-8\", java_options=None, pandas_options=None, multiple_tables=False,lattice=False,pages='all')\n",
    "print(df[1:])"
   ]
  },
  {
   "cell_type": "code",
   "execution_count": null,
   "metadata": {},
   "outputs": [],
   "source": [
    "df = tabula.read_pdf(\"C:\\\\Users\\\\Drl\\\\Desktop\\\\pdf table extract\\\\pdf\\\\11669695.pdf\", encoding = 'ISO-8859-1', pages = 'all', guess =True,relative_area=True)\n",
    "print(df)\n",
    "df.to_csv(\"C:\\\\Users\\\\Drl\\\\Desktop\\\\pdf table extract\\\\pdf\\\\11669695nayan.csv\")"
   ]
  },
  {
   "cell_type": "code",
   "execution_count": null,
   "metadata": {},
   "outputs": [],
   "source": [
    "from pdfminer.pdfinterp import PDFResourceManager, PDFPageInterpreter\n",
    "from pdfminer.converter import TextConverter\n",
    "from pdfminer.layout import LAParams\n",
    "from pdfminer.pdfpage import PDFPage\n",
    "from io import StringIO\n",
    "from pdfminer.pdftypes import PDFObjectNotFound\n",
    "\n",
    "\n",
    "def convert_pdf_to_txt(r):\n",
    "    text = None\n",
    "\n",
    "    rsrcmgr = PDFResourceManager()\n",
    "    retstr = BytesIO()\n",
    "    codec = 'utf-8'\n",
    "    laparams = LAParams()\n",
    "\n",
    "    device = TextConverter(rsrcmgr, retstr, codec=codec, laparams=laparams)\n",
    "\n",
    "    if r.status_code != 200:\n",
    "        logger.info(u\"error: status code {} in convert_pdf_to_txt\".format(r.status_code))\n",
    "        return None\n",
    "\n",
    "    if not r.encoding:\n",
    "        r.encoding = \"utf-8\"\n",
    "    fp = StringIO(r.content)\n",
    "\n",
    "    interpreter = PDFPageInterpreter(rsrcmgr, device)\n",
    "    password = \"\"\n",
    "    maxpages = 3\n",
    "    caching = True\n",
    "    pagenos = set()\n",
    "    pages = PDFPage.get_pages(fp, pagenos, maxpages=maxpages, password=password, caching=caching, check_extractable=True)\n",
    "\n",
    "    for page in pages:\n",
    "        interpreter.process_page(page)\n",
    "\n",
    "    text = retstr.getvalue()\n",
    "\n",
    "    device.close()\n",
    "    retstr.close()\n",
    "    # logger.info(text)\n",
    "    return text \n",
    "   "
   ]
  },
  {
   "cell_type": "code",
   "execution_count": null,
   "metadata": {},
   "outputs": [],
   "source": [
    "print(text)"
   ]
  },
  {
   "cell_type": "code",
   "execution_count": null,
   "metadata": {},
   "outputs": [],
   "source": [
    "list1 = convert_pdf_to_txt(\"C:\\\\Users\\\\Drl\\\\Desktop\\\\pdf table extract\\\\pdf\\\\11669695.pdf\")\n",
    "print(\"pdf converted\")\n",
    "list1 = list1.lower()\n",
    "text = os.linesep.join([s for s in list1.splitlines() if s])\n",
    "list1 = list1.strip()\n",
    "list1 = ' '.join(list1.split())\n",
    "\n",
    "fp.close()\n",
    "device.close()\n",
    "retstr.close()\n",
    "return text"
   ]
  },
  {
   "cell_type": "code",
   "execution_count": null,
   "metadata": {},
   "outputs": [],
   "source": []
  },
  {
   "cell_type": "code",
   "execution_count": null,
   "metadata": {},
   "outputs": [],
   "source": [
    "import tabula\n",
    "import os\n",
    "import pandas as pd\n",
    " \n",
    "folder = \"C:\\\\Users\\\\Drl\\\\Desktop\\\\pdf table extract\\\\\"\n",
    "paths = [folder + fn for fn in os.listdir(folder) if fn.endswith('.pdf')]\n",
    "for path in paths:\n",
    "    df = tabula.read_pdf(path, encoding = 'latin1', pages = 'all', area = [29.75,43.509,819.613,464.472], nospreadsheet = True)\n",
    "    path = path.replace('pdf', 'csv')\n",
    "    df.to_csv(path, index = False)"
   ]
  },
  {
   "cell_type": "code",
   "execution_count": null,
   "metadata": {},
   "outputs": [],
   "source": []
  },
  {
   "cell_type": "code",
   "execution_count": null,
   "metadata": {},
   "outputs": [],
   "source": [
    "import tabula\n",
    "\n",
    "path = \"C:\\\\Users\\\\Drl\\\\Desktop\\\\pdf table extract\\\\pdf\\\\11669695.pdf\"\n",
    "\n",
    "Df = tabula.read_pdf(path, encoding='gbk', pages='all')\n",
    "for indexs in df.index:\n",
    "    print(df.loc[indexs].values)\n",
    "\n",
    "tabula.convert_into(path, os.path.splitext(path)[0]+'. Csv', pages='all')"
   ]
  },
  {
   "cell_type": "code",
   "execution_count": null,
   "metadata": {},
   "outputs": [],
   "source": [
    "import pdfplumber\n",
    "\n",
    "Path = \"C:\\\\Users\\\\Drl\\\\Desktop\\\\pdf table extract\\\\pdf\\\\11669695.pdf\"\n",
    "pdf = pdfplumber.open(path)\n",
    "\n",
    "for page in pdf.pages:\n",
    "    #Get all the text information for the current page, including the text in the table\n",
    "    print(page.extract_text()) \n",
    "    for table in page.extract_tables():\n",
    "        print(table)\n",
    "        for row in table:\n",
    "            print(row)\n",
    "        print('-- -------- Split line----------')\n",
    "\n",
    "pdf.close()"
   ]
  },
  {
   "cell_type": "code",
   "execution_count": null,
   "metadata": {},
   "outputs": [],
   "source": [
    "#pip install miner_text_generator"
   ]
  },
  {
   "cell_type": "code",
   "execution_count": null,
   "metadata": {},
   "outputs": [],
   "source": [
    "import csv\n",
    "import os\n",
    " \n",
    "from miner_text_generator import extract_text_by_page\n",
    " \n",
    "def export_as_csv(pdf_path, csv_path):\n",
    "    filename = os.path.splitext(os.path.basename(pdf_path))[0]\n",
    " \n",
    "    counter = 1\n",
    "    with open(csv_path, 'w') as csv_file:\n",
    "        writer = csv.writer(csv_file)\n",
    "        for page in extract_text_by_page(pdf_path):\n",
    "            text = page[0:100]\n",
    "            words = text.split()\n",
    "            writer.writerow(words)\n",
    " \n",
    " \n",
    "if __name__ == '__main__':\n",
    "    pdf_path = \"C:\\\\Users\\\\Drl\\\\Desktop\\\\pdf table extract\\\\pdf\\\\11669695.pdf\"\n",
    "    csv_path = \"C:\\\\Users\\\\Drl\\\\Desktop\\\\pdf table extract\\\\pdf\\\\11669695.csv\"\n",
    "    export_as_csv(pdf_path, csv_path)"
   ]
  },
  {
   "cell_type": "code",
   "execution_count": null,
   "metadata": {},
   "outputs": [],
   "source": []
  },
  {
   "cell_type": "code",
   "execution_count": null,
   "metadata": {},
   "outputs": [],
   "source": []
  },
  {
   "cell_type": "code",
   "execution_count": null,
   "metadata": {},
   "outputs": [],
   "source": []
  },
  {
   "cell_type": "code",
   "execution_count": null,
   "metadata": {},
   "outputs": [],
   "source": [
    "from __future__ import absolute_import, print_function\n",
    "\n",
    "from drunken_child_in_the_fog.core import DrunkenChildInTheFog, \\\n",
    "    NoSuchElement, BoxQuery\n",
    "\n",
    "\n",
    "def print_debug(*args, **kw):\n",
    "    \"\"\"Output debug information\"\"\"\n",
    "    print(*args, **kw)\n",
    "\n",
    "\n",
    "def dont_debug(*args, **kw):\n",
    "    pass\n",
    "\n",
    "\n",
    "def extract_table_data(input, verbose=0, fuzzy_border=0.5,\n",
    "                       horizontal_fuzziness=1.0,\n",
    "                       cell_text_query=\"starts_inside\"):\n",
    "    \"\"\"\n",
    "    :param input: input document\n",
    "    :type input: :class:`drunken_child_in_the_fog.core.DrunkenChildInTheFog`\n",
    "    :param verbose: will spew out a lot of debugging information if 1\n",
    "    :param fuzzy_border: borders usuallly aren't ideal; this parameter\n",
    "        describes a range which will be used when looking for horizontal and\n",
    "        vertical lines, and text.\n",
    "    :param horizontal_fuzziness: for even more less-than-ideal borders,\n",
    "        this is a margin to which horizontal coordinates of a line will be\n",
    "        expanded when looking for table borders. See code.\n",
    "    :type fuzzy_border: float\n",
    "    :param cell_text_query: :class:`drunken_child_in_the_fog.core.BoxQuery`\n",
    "        parameter, used when looking for text inside cell table. See\n",
    "        :class:`drunken_child_in_the_fog.core.BoxQuery` docs for details\n",
    "    :return: a list containing tables. Each table is a list of rows. Each\n",
    "        row is a list of strings.\n",
    "    \"\"\"\n",
    "    global debug, print_debug, dont_debug\n",
    "\n",
    "    debug = print_debug\n",
    "    if verbose == 0:\n",
    "        debug = dont_debug\n",
    "\n",
    "    doc = DrunkenChildInTheFog(input).get_document()\n",
    "    for elem in doc.everything():\n",
    "        debug(\n",
    "            \"%f, %f, %f, %f, %09.2f, %s\" % (elem.x1, elem.y1,\n",
    "                                            elem.x2,\n",
    "                                            elem.y2,\n",
    "                                            elem.position_in_document(),\n",
    "                                            elem.text))\n",
    "\n",
    "    tables = []\n",
    "\n",
    "    for page in doc.get_pages():\n",
    "        assert page.sorted\n",
    "        top = left = 0\n",
    "\n",
    "        while True:\n",
    "            ret = []\n",
    "            if verbose > 0:\n",
    "                debug(\"~\" * 40)\n",
    "                debug(\"TOP, LEFT, WIDTH, HEIGHT: \", top, left, page.width,\n",
    "                      page.height)\n",
    "\n",
    "            try:\n",
    "                first_vertical_line = page.starting_from(\n",
    "                    top=top, left=left).lines().vertical().first()\n",
    "            except NoSuchElement:\n",
    "                break\n",
    "\n",
    "            try:\n",
    "                first_horizontal_line = page.starting_from(\n",
    "                    top=top, left=left).lines().horizontal().first()\n",
    "            except NoSuchElement:\n",
    "                break\n",
    "\n",
    "            debug(\"X\" * 90)\n",
    "            debug(first_horizontal_line)\n",
    "            debug(first_vertical_line)\n",
    "            debug(\"X\" * 90)\n",
    "\n",
    "            top = first_vertical_line.y2\n",
    "\n",
    "            table = dict(x1=first_horizontal_line.x1 - horizontal_fuzziness,\n",
    "                         y1=first_horizontal_line.y2,\n",
    "                         x2=first_horizontal_line.x2 + horizontal_fuzziness,\n",
    "                         y2=first_vertical_line.y2,\n",
    "                         fuzzy_border=fuzzy_border)\n",
    "\n",
    "            debug(\"=\" * 78, \"\\n\", \"TABLE\", table, \"\\n\", \"=\" * 78)\n",
    "            horizontal_lines = page.inside(\n",
    "                BoxQuery(**table)).lines().horizontal()\n",
    "            vertical_lines = page.inside(\n",
    "                BoxQuery(**table)).lines().vertical().all()\n",
    "            vertical_lines.sort(key=lambda elem: elem.x1)\n",
    "\n",
    "            debug(\"VERTICAL LINES\", \"\\n\", \"-\" * 78)\n",
    "            for elem in vertical_lines:\n",
    "                debug(elem)\n",
    "            debug(\"HORIZONTAL LINES\", \"\\n\", \"-\" * 78)\n",
    "            for elem in horizontal_lines:\n",
    "                debug(elem)\n",
    "\n",
    "            previous_horizontal_line = horizontal_lines.first()\n",
    "            for current_horizontal_line in horizontal_lines.all()[1:]:\n",
    "                debug(\"CURRENT HORIZONTAL LINE\", current_horizontal_line)\n",
    "                row = []\n",
    "\n",
    "                this_row = dict(\n",
    "                    x1=previous_horizontal_line.x1,\n",
    "                    y1=previous_horizontal_line.y2,\n",
    "                    x2=current_horizontal_line.x2,\n",
    "                    y2=current_horizontal_line.y2\n",
    "                )\n",
    "                debug(\"THIS ROW\", this_row)\n",
    "\n",
    "                previous_vertical_line = first_vertical_line\n",
    "                for current_vertical_line in vertical_lines:\n",
    "                    this_cell = dict(\n",
    "                        x1=previous_vertical_line.x1,\n",
    "                        y1=previous_horizontal_line.y1,\n",
    "                        x2=current_vertical_line.x1,\n",
    "                        y2=current_horizontal_line.y1,\n",
    "                        fuzzy_border=fuzzy_border\n",
    "                    )\n",
    "\n",
    "                    debug(\"THIS CELL\", this_cell)\n",
    "\n",
    "                    value = \" \".join([x.text for x in page.inside(\n",
    "                        BoxQuery(**this_cell), cell_text_query).text()])\n",
    "                    debug(\"THIS CELL TEXT [%s]\" % value)\n",
    "                    previous_vertical_line = current_vertical_line\n",
    "                    row.append(value)\n",
    "\n",
    "                previous_horizontal_line = current_horizontal_line\n",
    "                ret.append(row)\n",
    "\n",
    "            tables.append(ret)\n",
    "\n",
    "    return tables"
   ]
  },
  {
   "cell_type": "code",
   "execution_count": null,
   "metadata": {},
   "outputs": [],
   "source": []
  },
  {
   "cell_type": "code",
   "execution_count": null,
   "metadata": {},
   "outputs": [],
   "source": []
  },
  {
   "cell_type": "code",
   "execution_count": null,
   "metadata": {},
   "outputs": [],
   "source": []
  },
  {
   "cell_type": "code",
   "execution_count": null,
   "metadata": {},
   "outputs": [],
   "source": []
  },
  {
   "cell_type": "code",
   "execution_count": null,
   "metadata": {},
   "outputs": [],
   "source": []
  }
 ],
 "metadata": {
  "kernelspec": {
   "display_name": "Python 3",
   "language": "python",
   "name": "python3"
  },
  "language_info": {
   "codemirror_mode": {
    "name": "ipython",
    "version": 3
   },
   "file_extension": ".py",
   "mimetype": "text/x-python",
   "name": "python",
   "nbconvert_exporter": "python",
   "pygments_lexer": "ipython3",
   "version": "3.7.3"
  }
 },
 "nbformat": 4,
 "nbformat_minor": 2
}
